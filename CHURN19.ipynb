{
  "nbformat": 4,
  "nbformat_minor": 0,
  "metadata": {
    "colab": {
      "provenance": []
    },
    "kernelspec": {
      "name": "python3",
      "display_name": "Python 3"
    },
    "language_info": {
      "name": "python"
    }
  },
  "cells": [
    {
      "cell_type": "code",
      "execution_count": 1,
      "metadata": {
        "id": "8Zh1Rpsqcfv1"
      },
      "outputs": [],
      "source": [
        "import tensorflow as tf\n",
        "import pandas as pd\n",
        "from tensorflow.keras.models import Sequential\n",
        "from tensorflow.keras.layers import Dense\n",
        "from tensorflow.keras.optimizers import SGD, Adam, RMSprop\n",
        "from sklearn.model_selection import train_test_split\n",
        "from sklearn.metrics import accuracy_score\n",
        "from sklearn.preprocessing import StandardScaler, OneHotEncoder\n",
        "from sklearn.compose import ColumnTransformer\n",
        "from sklearn.metrics import roc_curve, auc\n",
        "import matplotlib.pyplot as plt\n",
        "from sklearn.metrics import confusion_matrix, ConfusionMatrixDisplay\n",
        "from tensorflow.keras.callbacks import EarlyStopping"
      ]
    },
    {
      "cell_type": "code",
      "source": [
        "\"\"\"Data Preprocessing\"\"\"\n",
        "\n",
        "data = pd.read_csv(\"Churn_Modelling.csv\")\n",
        "data = data.drop(['CustomerId', 'Surname'], axis=1)\n",
        "categorical_cols = ['Geography', 'Gender']\n",
        "numerical_cols = [col for col in data.columns if col not in categorical_cols + ['Exited']]\n",
        "A = data.drop('Exited', axis=1)\n",
        "b = data['Exited']"
      ],
      "metadata": {
        "id": "EPOXio6Dcpq4"
      },
      "execution_count": 2,
      "outputs": []
    },
    {
      "cell_type": "code",
      "source": [
        "\n",
        "\"\"\"Transforming/Scaling categorical and numerical data using OneHotEncoder and StandardScaler respectively\"\"\"\n",
        "\n",
        "numerical_transformer = StandardScaler()\n",
        "categorical_transformer = OneHotEncoder(drop='first', sparse=False)\n",
        "preprocessor = ColumnTransformer(\n",
        "    transformers=[\n",
        "        ('num', numerical_transformer, numerical_cols),\n",
        "        ('cat', categorical_transformer, categorical_cols)\n",
        "    ])"
      ],
      "metadata": {
        "id": "V_iIUFeocv0P"
      },
      "execution_count": 3,
      "outputs": []
    },
    {
      "cell_type": "code",
      "source": [
        "\"\"\"\n",
        "\n",
        "Splitting training and testing data\"\"\"\n",
        "\n",
        "A_train, A_test, b_train, b_test = train_test_split(A, b, test_size=0.3, random_state=42)\n",
        "A_train = preprocessor.fit_transform(A_train)\n",
        "A_test = preprocessor.transform(A_test)"
      ],
      "metadata": {
        "colab": {
          "base_uri": "https://localhost:8080/"
        },
        "id": "9YdOKkzlcyfY",
        "outputId": "5454f27e-4091-4f18-b6c8-a9a19e66bc2d"
      },
      "execution_count": 4,
      "outputs": [
        {
          "output_type": "stream",
          "name": "stderr",
          "text": [
            "/usr/local/lib/python3.10/dist-packages/sklearn/preprocessing/_encoders.py:868: FutureWarning: `sparse` was renamed to `sparse_output` in version 1.2 and will be removed in 1.4. `sparse_output` is ignored unless you leave `sparse` to its default value.\n",
            "  warnings.warn(\n"
          ]
        }
      ]
    },
    {
      "cell_type": "code",
      "source": [
        "\"\"\"Create the model with necessary operations\"\"\"\n",
        "\n",
        "def create_model(optimizer):\n",
        "    model = Sequential()\n",
        "    model.add(Dense(64, input_shape=(A_train.shape[1],), activation='relu'))\n",
        "    model.add(Dense(32, activation='relu'))\n",
        "    model.add(Dense(1, activation='sigmoid'))\n",
        "\n",
        "    model.compile(optimizer=optimizer, loss='binary_crossentropy', metrics=['accuracy'])\n",
        "    return model"
      ],
      "metadata": {
        "id": "113Zij4xc2VS"
      },
      "execution_count": 5,
      "outputs": []
    },
    {
      "cell_type": "code",
      "source": [
        "\n",
        "\"\"\"Model Compilation\"\"\"\n",
        "\n",
        "optimizers = [SGD(), Adam(), RMSprop()]\n",
        "for opt in optimizers:\n",
        "    model = create_model(opt)\n",
        "    print(f\"Training model with {str(opt)} optimizer...\")\n",
        "    early_stopping = EarlyStopping(monitor='val_loss', patience=3, restore_best_weights=True)\n",
        "    model.fit(A_train, b_train, epochs=10, batch_size=32, verbose=0)"
      ],
      "metadata": {
        "colab": {
          "base_uri": "https://localhost:8080/"
        },
        "id": "I_gUmaIsc4-o",
        "outputId": "e2c2cf4a-1b0e-450f-9891-aaedd71df7e1"
      },
      "execution_count": 6,
      "outputs": [
        {
          "output_type": "stream",
          "name": "stdout",
          "text": [
            "Training model with <keras.src.optimizers.sgd.SGD object at 0x7de0f696abf0> optimizer...\n",
            "Training model with <keras.src.optimizers.adam.Adam object at 0x7de06f502260> optimizer...\n",
            "Training model with <keras.src.optimizers.rmsprop.RMSprop object at 0x7de06f501ba0> optimizer...\n"
          ]
        }
      ]
    },
    {
      "cell_type": "code",
      "source": [
        "\n",
        "\"\"\"Accuracy Evaluation\"\"\"\n",
        "\n",
        "loss, accuracy = model.evaluate(A_test, b_test, verbose=0)\n",
        "print(f\"Evaluation on test set with {str(opt)} optimizer:\")\n",
        "print(f\"Loss: {loss:.4f}, Accuracy: {accuracy*100:.2f}%\")\n",
        "b_pred = model.predict(A_test)\n",
        "b_pred_classes = (b_pred > 0.5).astype(\"int32\")"
      ],
      "metadata": {
        "colab": {
          "base_uri": "https://localhost:8080/"
        },
        "id": "ZaEYnGFVc77g",
        "outputId": "7bbe778b-96bb-406d-d450-214cf2517fd2"
      },
      "execution_count": 7,
      "outputs": [
        {
          "output_type": "stream",
          "name": "stdout",
          "text": [
            "Evaluation on test set with <keras.src.optimizers.rmsprop.RMSprop object at 0x7de06f501ba0> optimizer:\n",
            "Loss: 0.3395, Accuracy: 86.20%\n",
            "94/94 [==============================] - 0s 2ms/step\n"
          ]
        }
      ]
    },
    {
      "cell_type": "code",
      "source": [
        "\n",
        "\"\"\"Confusion Matrix\n",
        "\n",
        "\n",
        "\"\"\"\n",
        "\n",
        "cm = confusion_matrix(b_test, b_pred_classes)\n",
        "print(\"\")\n",
        "print(\"Confusion Matrix:\")\n",
        "print(cm)\n",
        "print(\"Number of customers predicted by the model to stay : \",cm[0][0])\n",
        "print(\"Number of customer predicted by the model to churn/exit : \",cm[1][1])"
      ],
      "metadata": {
        "colab": {
          "base_uri": "https://localhost:8080/"
        },
        "id": "UlVuXUUrdBZY",
        "outputId": "5a210d63-c05f-40b6-f312-92394bb3160e"
      },
      "execution_count": 8,
      "outputs": [
        {
          "output_type": "stream",
          "name": "stdout",
          "text": [
            "\n",
            "Confusion Matrix:\n",
            "[[2334   82]\n",
            " [ 332  252]]\n",
            "Number of customers predicted by the model to stay :  2334\n",
            "Number of customer predicted by the model to churn/exit :  252\n"
          ]
        }
      ]
    },
    {
      "cell_type": "code",
      "source": [
        "\"\"\"Visualization of Confusion Matrix\"\"\"\n",
        "\n",
        "disp = ConfusionMatrixDisplay(cm, display_labels=['Stay','Churn/Exit'])\n",
        "disp.plot()\n",
        "plt.title('Confusion Matrix')\n",
        "plt.show()"
      ],
      "metadata": {
        "colab": {
          "base_uri": "https://localhost:8080/",
          "height": 472
        },
        "id": "eWsRJ1P4dKNM",
        "outputId": "30f9b67b-bdad-442e-8527-0b2346031208"
      },
      "execution_count": 9,
      "outputs": [
        {
          "output_type": "display_data",
          "data": {
            "text/plain": [
              "<Figure size 640x480 with 2 Axes>"
            ],
            "image/png": "[encoded data removed]"
          },
          "metadata": {}
        }
      ]
    }
  ]
}